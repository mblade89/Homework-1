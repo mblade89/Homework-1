{
 "cells": [
  {
   "cell_type": "markdown",
   "metadata": {},
   "source": [
    "# Problem 1 Part 1"
   ]
  },
  {
   "cell_type": "code",
   "execution_count": 13,
   "metadata": {},
   "outputs": [
    {
     "name": "stdout",
     "output_type": "stream",
     "text": [
      "1\n",
      "1\n",
      "2\n",
      "3\n",
      "5\n",
      "8\n",
      "13\n",
      "21\n",
      "34\n"
     ]
    }
   ],
   "source": [
    "def fib_seq(n):\n",
    "    a,b = 1,1\n",
    "    for i in range(n-1):\n",
    "        a,b = b,  a + b\n",
    "    return a\n",
    "for i in range(1,10):\n",
    "    print(fib_seq(i))"
   ]
  },
  {
   "cell_type": "markdown",
   "metadata": {},
   "source": [
    "# Problem 1 Part 2"
   ]
  },
  {
   "cell_type": "markdown",
   "metadata": {},
   "source": [
    "The for loop is faster than the recursive function. the recursive function takes more time calling the function and returning the value asked."
   ]
  },
  {
   "cell_type": "markdown",
   "metadata": {},
   "source": [
    "# Problem 1 Part 3"
   ]
  },
  {
   "cell_type": "code",
   "execution_count": null,
   "metadata": {},
   "outputs": [],
   "source": [
    "import time\n",
    "def timer(f=Fib_rec, n, k):\n",
    "    x = time.time()\n",
    "\n",
    "    y = time.time()\n",
    "    average_time = y - x\n",
    "    return average_time"
   ]
  },
  {
   "cell_type": "markdown",
   "metadata": {},
   "source": [
    "# Problem 2 Part 1"
   ]
  },
  {
   "cell_type": "markdown",
   "metadata": {},
   "source": [
    "Determinant: 54\n",
    "\n",
    "Transpose : \\begin{equation*}\n",
    "\\mathbf{M} =  \\begin{vmatrix}\n",
    "\\mathbf{1} & \\mathbf{-4} & \\mathbf{2} \\\\\n",
    "\\mathbf{-4} & \\mathbf{1} & \\mathbf{-2} \\\\\n",
    "\\mathbf{2} & \\mathbf{-2} & \\mathbf{-2}\n",
    "\\end{vmatrix}\n",
    "\\end{equation*}\n",
    "\n",
    "Inverse: \\begin{equation*}\n",
    "\\mathbf{M} =  \\begin{vmatrix}\n",
    "\\mathbf{-1/9} & \\mathbf{-2/9} & \\mathbf{1/9} \\\\\n",
    "\\mathbf{-2/9} & \\mathbf{-1/9} & \\mathbf{-1/9} \\\\\n",
    "\\mathbf{1/9} & \\mathbf{-1/9} & \\mathbf{-5/18}\n",
    "\\end{vmatrix}\n",
    "\\end{equation*}"
   ]
  },
  {
   "cell_type": "markdown",
   "metadata": {},
   "source": [
    "# Problem 2 Part 2"
   ]
  },
  {
   "cell_type": "markdown",
   "metadata": {},
   "source": []
  },
  {
   "cell_type": "markdown",
   "metadata": {},
   "source": [
    "# Problem 3 Part 1"
   ]
  },
  {
   "cell_type": "markdown",
   "metadata": {},
   "source": [
    "Validation samples are examples used to tune the framework of te learning algorithm, test samples are use to check and evaluate the algorithm. This is seperate from the training sample."
   ]
  },
  {
   "cell_type": "markdown",
   "metadata": {},
   "source": [
    "# Problem 3 Part 2"
   ]
  },
  {
   "cell_type": "markdown",
   "metadata": {},
   "source": [
    "Supervised learning involves using labeled examples to train your algorithm in order to make predicitons for the unseen points.\n",
    "\n",
    "Unsupervised learning typically is unlabled examples used for training data, here you have to find the patterns to predict the unseen points. typically see clustering in unsupervised learning."
   ]
  }
 ],
 "metadata": {
  "kernelspec": {
   "display_name": "Python 3",
   "language": "python",
   "name": "python3"
  },
  "language_info": {
   "codemirror_mode": {
    "name": "ipython",
    "version": 3
   },
   "file_extension": ".py",
   "mimetype": "text/x-python",
   "name": "python",
   "nbconvert_exporter": "python",
   "pygments_lexer": "ipython3",
   "version": "3.6.8"
  }
 },
 "nbformat": 4,
 "nbformat_minor": 2
}
